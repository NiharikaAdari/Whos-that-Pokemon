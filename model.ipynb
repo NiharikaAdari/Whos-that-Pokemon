{
 "cells": [
  {
   "cell_type": "code",
   "execution_count": 2,
   "id": "f9099aa8",
   "metadata": {},
   "outputs": [
    {
     "name": "stdout",
     "output_type": "stream",
     "text": [
      "WARNING:tensorflow:From C:\\Users\\dewdr\\anaconda3\\lib\\site-packages\\keras\\src\\losses.py:2976: The name tf.losses.sparse_softmax_cross_entropy is deprecated. Please use tf.compat.v1.losses.sparse_softmax_cross_entropy instead.\n",
      "\n"
     ]
    }
   ],
   "source": [
    "import matplotlib.pyplot as plt\n",
    "import numpy as np\n",
    "import PIL\n",
    "import tensorflow as tf\n",
    "\n",
    "from tensorflow import keras\n",
    "from tensorflow.keras import layers\n",
    "from tensorflow.keras.models import Sequential"
   ]
  },
  {
   "cell_type": "code",
   "execution_count": 3,
   "id": "ab46ab2a",
   "metadata": {},
   "outputs": [],
   "source": [
    "import os\n",
    "import zipfile\n",
    "from tensorflow.keras.preprocessing.image import ImageDataGenerator"
   ]
  },
  {
   "cell_type": "code",
   "execution_count": 4,
   "id": "a9394407",
   "metadata": {},
   "outputs": [],
   "source": [
    "zip_file_path = 'archive.zip'\n",
    "extract_to_dir = 'pokemon/data'"
   ]
  },
  {
   "cell_type": "code",
   "execution_count": 4,
   "id": "4db90ef1",
   "metadata": {},
   "outputs": [],
   "source": [
    "with zipfile.ZipFile(zip_file_path, 'r') as zip_ref:\n",
    "    zip_ref.extractall(extract_to_dir)"
   ]
  },
  {
   "cell_type": "code",
   "execution_count": 5,
   "id": "f2ba1cde",
   "metadata": {},
   "outputs": [],
   "source": [
    "base_dir = 'pokemon/data/dataset'"
   ]
  },
  {
   "cell_type": "markdown",
   "id": "341bc6df",
   "metadata": {},
   "source": [
    "Pre-Process data. resize, normalize, split into training/validation sets"
   ]
  },
  {
   "cell_type": "code",
   "execution_count": 6,
   "id": "1618797e",
   "metadata": {},
   "outputs": [],
   "source": [
    "# Initialize the ImageDataGenerator for data normalization and augmentation\n",
    "train_datagen = ImageDataGenerator(rescale=1./255,\n",
    "                                   rotation_range=40,\n",
    "                                   width_shift_range=0.2,\n",
    "                                   height_shift_range=0.2,\n",
    "                                   shear_range=0.2,\n",
    "                                   zoom_range=0.2,\n",
    "                                   horizontal_flip=True,\n",
    "                                   fill_mode='nearest',\n",
    "                                   validation_split=0.2)# Use 20% of the data for validation"
   ]
  },
  {
   "cell_type": "code",
   "execution_count": 7,
   "id": "5be2cda2",
   "metadata": {
    "scrolled": true
   },
   "outputs": [
    {
     "name": "stdout",
     "output_type": "stream",
     "text": [
      "Found 8586 images belonging to 149 classes.\n",
      "Found 2071 images belonging to 149 classes.\n"
     ]
    }
   ],
   "source": [
    "# Prepare training and validation generators\n",
    "train_generator = train_datagen.flow_from_directory(\n",
    "        base_dir,\n",
    "        target_size=(150, 150),  # Resize images\n",
    "        batch_size=32,\n",
    "        class_mode='categorical',\n",
    "        subset='training')  # Set as training data\n",
    "\n",
    "validation_generator = train_datagen.flow_from_directory(\n",
    "        base_dir,\n",
    "        target_size=(150, 150),\n",
    "        batch_size=32,\n",
    "        class_mode='categorical',\n",
    "        subset='validation')  # Set as validation data"
   ]
  },
  {
   "cell_type": "markdown",
   "id": "307306ad",
   "metadata": {},
   "source": [
    "Design Model : Convolutional Neural Network (CNN) "
   ]
  },
  {
   "cell_type": "code",
   "execution_count": 8,
   "id": "642845e2",
   "metadata": {
    "scrolled": false
   },
   "outputs": [
    {
     "name": "stdout",
     "output_type": "stream",
     "text": [
      "WARNING:tensorflow:From C:\\Users\\dewdr\\anaconda3\\lib\\site-packages\\keras\\src\\backend.py:873: The name tf.get_default_graph is deprecated. Please use tf.compat.v1.get_default_graph instead.\n",
      "\n",
      "WARNING:tensorflow:From C:\\Users\\dewdr\\anaconda3\\lib\\site-packages\\keras\\src\\layers\\pooling\\max_pooling2d.py:161: The name tf.nn.max_pool is deprecated. Please use tf.nn.max_pool2d instead.\n",
      "\n",
      "Model: \"sequential\"\n",
      "_________________________________________________________________\n",
      " Layer (type)                Output Shape              Param #   \n",
      "=================================================================\n",
      " conv2d (Conv2D)             (None, 148, 148, 32)      896       \n",
      "                                                                 \n",
      " max_pooling2d (MaxPooling2  (None, 74, 74, 32)        0         \n",
      " D)                                                              \n",
      "                                                                 \n",
      " conv2d_1 (Conv2D)           (None, 72, 72, 64)        18496     \n",
      "                                                                 \n",
      " max_pooling2d_1 (MaxPoolin  (None, 36, 36, 64)        0         \n",
      " g2D)                                                            \n",
      "                                                                 \n",
      " conv2d_2 (Conv2D)           (None, 34, 34, 128)       73856     \n",
      "                                                                 \n",
      " max_pooling2d_2 (MaxPoolin  (None, 17, 17, 128)       0         \n",
      " g2D)                                                            \n",
      "                                                                 \n",
      " conv2d_3 (Conv2D)           (None, 15, 15, 128)       147584    \n",
      "                                                                 \n",
      " max_pooling2d_3 (MaxPoolin  (None, 7, 7, 128)         0         \n",
      " g2D)                                                            \n",
      "                                                                 \n",
      " flatten (Flatten)           (None, 6272)              0         \n",
      "                                                                 \n",
      " dropout (Dropout)           (None, 6272)              0         \n",
      "                                                                 \n",
      " dense (Dense)               (None, 512)               3211776   \n",
      "                                                                 \n",
      " dense_1 (Dense)             (None, 149)               76437     \n",
      "                                                                 \n",
      "=================================================================\n",
      "Total params: 3529045 (13.46 MB)\n",
      "Trainable params: 3529045 (13.46 MB)\n",
      "Non-trainable params: 0 (0.00 Byte)\n",
      "_________________________________________________________________\n",
      "WARNING:tensorflow:From C:\\Users\\dewdr\\anaconda3\\lib\\site-packages\\keras\\src\\optimizers\\__init__.py:309: The name tf.train.Optimizer is deprecated. Please use tf.compat.v1.train.Optimizer instead.\n",
      "\n"
     ]
    }
   ],
   "source": [
    "from tensorflow.keras import layers\n",
    "from tensorflow.keras import models\n",
    "\n",
    "model = models.Sequential([\n",
    "    layers.Conv2D(32, (3, 3), activation='relu', input_shape=(150, 150, 3)),\n",
    "    layers.MaxPooling2D((2, 2)),\n",
    "    layers.Conv2D(64, (3, 3), activation='relu'),\n",
    "    layers.MaxPooling2D((2, 2)),\n",
    "    layers.Conv2D(128, (3, 3), activation='relu'),\n",
    "    layers.MaxPooling2D((2, 2)),\n",
    "    layers.Conv2D(128, (3, 3), activation='relu'),\n",
    "    layers.MaxPooling2D((2, 2)),\n",
    "    layers.Flatten(),\n",
    "    layers.Dropout(0.5),  # Dropout for regularization\n",
    "    layers.Dense(512, activation='relu'),\n",
    "    layers.Dense(149, activation='softmax')  # 150 classes for Gen 1 Pokémon\n",
    "])\n",
    "\n",
    "# Model summary\n",
    "model.summary()\n",
    "\n",
    "# Compile the model\n",
    "model.compile(loss='categorical_crossentropy',\n",
    "              optimizer='adam',\n",
    "              metrics=['accuracy'])\n"
   ]
  },
  {
   "cell_type": "markdown",
   "id": "6e84c52a",
   "metadata": {},
   "source": [
    "Train Model with training/validation generators "
   ]
  },
  {
   "cell_type": "code",
   "execution_count": 9,
   "id": "1bc53dac",
   "metadata": {},
   "outputs": [
    {
     "name": "stdout",
     "output_type": "stream",
     "text": [
      "Epoch 1/30\n",
      "WARNING:tensorflow:From C:\\Users\\dewdr\\anaconda3\\lib\\site-packages\\keras\\src\\utils\\tf_utils.py:492: The name tf.ragged.RaggedTensorValue is deprecated. Please use tf.compat.v1.ragged.RaggedTensorValue instead.\n",
      "\n",
      "WARNING:tensorflow:From C:\\Users\\dewdr\\anaconda3\\lib\\site-packages\\keras\\src\\engine\\base_layer_utils.py:384: The name tf.executing_eagerly_outside_functions is deprecated. Please use tf.compat.v1.executing_eagerly_outside_functions instead.\n",
      "\n",
      " 87/100 [=========================>....] - ETA: 3s - loss: 4.9166 - accuracy: 0.0377"
     ]
    },
    {
     "name": "stderr",
     "output_type": "stream",
     "text": [
      "C:\\Users\\dewdr\\anaconda3\\lib\\site-packages\\PIL\\Image.py:959: UserWarning: Palette images with Transparency expressed in bytes should be converted to RGBA images\n",
      "  warnings.warn(\n"
     ]
    },
    {
     "name": "stdout",
     "output_type": "stream",
     "text": [
      "100/100 [==============================] - 41s 408ms/step - loss: 4.8970 - accuracy: 0.0416 - val_loss: 4.7300 - val_accuracy: 0.0613\n",
      "Epoch 2/30\n",
      "100/100 [==============================] - 40s 405ms/step - loss: 4.6068 - accuracy: 0.0784 - val_loss: 4.4677 - val_accuracy: 0.0850\n",
      "Epoch 3/30\n",
      "100/100 [==============================] - 41s 408ms/step - loss: 4.3903 - accuracy: 0.0950 - val_loss: 4.2669 - val_accuracy: 0.1125\n",
      "Epoch 4/30\n",
      "100/100 [==============================] - 39s 390ms/step - loss: 4.1761 - accuracy: 0.1191 - val_loss: 4.1278 - val_accuracy: 0.1488\n",
      "Epoch 5/30\n",
      "100/100 [==============================] - 40s 396ms/step - loss: 3.9573 - accuracy: 0.1363 - val_loss: 3.9564 - val_accuracy: 0.1394\n",
      "Epoch 6/30\n",
      "100/100 [==============================] - 40s 402ms/step - loss: 3.8856 - accuracy: 0.1473 - val_loss: 3.7635 - val_accuracy: 0.1519\n",
      "Epoch 7/30\n",
      "100/100 [==============================] - 40s 400ms/step - loss: 3.7563 - accuracy: 0.1532 - val_loss: 3.7080 - val_accuracy: 0.1756\n",
      "Epoch 8/30\n",
      "100/100 [==============================] - 40s 401ms/step - loss: 3.6718 - accuracy: 0.1608 - val_loss: 3.7162 - val_accuracy: 0.1681\n",
      "Epoch 9/30\n",
      "100/100 [==============================] - 40s 402ms/step - loss: 3.5328 - accuracy: 0.1850 - val_loss: 3.5708 - val_accuracy: 0.1844\n",
      "Epoch 10/30\n",
      "100/100 [==============================] - 39s 394ms/step - loss: 3.4346 - accuracy: 0.2003 - val_loss: 3.5004 - val_accuracy: 0.2069\n",
      "Epoch 11/30\n",
      "100/100 [==============================] - 38s 376ms/step - loss: 3.4070 - accuracy: 0.1966 - val_loss: 3.4580 - val_accuracy: 0.2075\n",
      "Epoch 12/30\n",
      "100/100 [==============================] - 40s 405ms/step - loss: 3.3634 - accuracy: 0.2103 - val_loss: 3.4016 - val_accuracy: 0.2181\n",
      "Epoch 13/30\n",
      "100/100 [==============================] - 40s 401ms/step - loss: 3.2747 - accuracy: 0.2262 - val_loss: 3.3486 - val_accuracy: 0.2231\n",
      "Epoch 14/30\n",
      "100/100 [==============================] - 41s 409ms/step - loss: 3.1988 - accuracy: 0.2412 - val_loss: 3.2541 - val_accuracy: 0.2544\n",
      "Epoch 15/30\n",
      "100/100 [==============================] - 39s 395ms/step - loss: 3.1282 - accuracy: 0.2556 - val_loss: 3.1719 - val_accuracy: 0.2494\n",
      "Epoch 16/30\n",
      "100/100 [==============================] - 41s 413ms/step - loss: 3.0911 - accuracy: 0.2600 - val_loss: 3.2575 - val_accuracy: 0.2525\n",
      "Epoch 17/30\n",
      "100/100 [==============================] - 40s 400ms/step - loss: 3.0855 - accuracy: 0.2559 - val_loss: 3.2056 - val_accuracy: 0.2594\n",
      "Epoch 18/30\n",
      "100/100 [==============================] - 40s 396ms/step - loss: 2.9827 - accuracy: 0.2756 - val_loss: 3.1482 - val_accuracy: 0.2631\n",
      "Epoch 19/30\n",
      "100/100 [==============================] - 39s 391ms/step - loss: 2.9925 - accuracy: 0.2788 - val_loss: 3.1532 - val_accuracy: 0.2612\n",
      "Epoch 20/30\n",
      "100/100 [==============================] - 39s 396ms/step - loss: 2.9086 - accuracy: 0.2828 - val_loss: 3.1137 - val_accuracy: 0.2694\n",
      "Epoch 21/30\n",
      "100/100 [==============================] - 42s 419ms/step - loss: 2.8543 - accuracy: 0.3022 - val_loss: 3.1140 - val_accuracy: 0.2744\n",
      "Epoch 22/30\n",
      "100/100 [==============================] - 40s 401ms/step - loss: 2.7935 - accuracy: 0.3088 - val_loss: 3.0533 - val_accuracy: 0.2856\n",
      "Epoch 23/30\n",
      "100/100 [==============================] - 40s 402ms/step - loss: 2.7675 - accuracy: 0.3169 - val_loss: 3.1360 - val_accuracy: 0.2681\n",
      "Epoch 24/30\n",
      "100/100 [==============================] - 40s 402ms/step - loss: 2.7369 - accuracy: 0.3259 - val_loss: 3.0552 - val_accuracy: 0.2875\n",
      "Epoch 25/30\n",
      "100/100 [==============================] - 40s 400ms/step - loss: 2.7289 - accuracy: 0.3166 - val_loss: 2.9578 - val_accuracy: 0.2956\n",
      "Epoch 26/30\n",
      "100/100 [==============================] - 40s 400ms/step - loss: 2.7041 - accuracy: 0.3250 - val_loss: 2.9769 - val_accuracy: 0.2912\n",
      "Epoch 27/30\n",
      "100/100 [==============================] - 40s 398ms/step - loss: 2.6974 - accuracy: 0.3303 - val_loss: 3.0051 - val_accuracy: 0.2781\n",
      "Epoch 28/30\n",
      "100/100 [==============================] - 40s 402ms/step - loss: 2.6560 - accuracy: 0.3456 - val_loss: 2.9550 - val_accuracy: 0.2856\n",
      "Epoch 29/30\n",
      "100/100 [==============================] - 40s 402ms/step - loss: 2.5815 - accuracy: 0.3497 - val_loss: 2.9829 - val_accuracy: 0.2981\n",
      "Epoch 30/30\n",
      "100/100 [==============================] - 40s 406ms/step - loss: 2.5314 - accuracy: 0.3603 - val_loss: 2.9390 - val_accuracy: 0.3181\n"
     ]
    }
   ],
   "source": [
    "history = model.fit(\n",
    "    train_generator,\n",
    "    steps_per_epoch=100,  # Adjust based on your dataset size\n",
    "    epochs=30,  # Adjust based on convergence\n",
    "    validation_data=validation_generator,\n",
    "    validation_steps=50)  # Adjust based on your dataset size\n"
   ]
  },
  {
   "cell_type": "markdown",
   "id": "d299cb5a",
   "metadata": {},
   "source": [
    "Evaluate Model using validation set"
   ]
  },
  {
   "cell_type": "code",
   "execution_count": 10,
   "id": "f29e783d",
   "metadata": {},
   "outputs": [
    {
     "name": "stdout",
     "output_type": "stream",
     "text": [
      "50/50 [==============================] - 12s 235ms/step - loss: 2.8959 - accuracy: 0.3212\n",
      "Validation loss: 2.8959085941314697, Validation accuracy: 0.32124999165534973\n"
     ]
    }
   ],
   "source": [
    "# Evaluate the model\n",
    "val_loss, val_acc = model.evaluate(validation_generator, steps=50)\n",
    "print(f'Validation loss: {val_loss}, Validation accuracy: {val_acc}')\n"
   ]
  },
  {
   "cell_type": "code",
   "execution_count": 11,
   "id": "1516aa18",
   "metadata": {},
   "outputs": [],
   "source": [
    "model.save('model.keras')"
   ]
  },
  {
   "cell_type": "code",
   "execution_count": 12,
   "id": "b9ca7bd7",
   "metadata": {},
   "outputs": [],
   "source": [
    "from tensorflow.keras.preprocessing import image\n",
    "import numpy as np\n",
    "\n",
    "def load_and_preprocess_image(image_path):\n",
    "    img = image.load_img(image_path, target_size=(150, 150))\n",
    "    img_array = image.img_to_array(img)\n",
    "    img_array = np.expand_dims(img_array, axis=0)  # Make it a batch of one\n",
    "    img_array /= 255.0  # Rescale pixel values to match training\n",
    "    return img_array\n",
    "\n",
    "image_path = '025.png'  # Adjust with the path to your image\n",
    "img_array = load_and_preprocess_image(image_path)\n"
   ]
  },
  {
   "cell_type": "code",
   "execution_count": 13,
   "id": "a251cf10",
   "metadata": {},
   "outputs": [
    {
     "name": "stdout",
     "output_type": "stream",
     "text": [
      "1/1 [==============================] - 0s 75ms/step\n",
      "This image is most likely: Pikachu with a probability of 0.2728918492794037\n"
     ]
    }
   ],
   "source": [
    "predictions = model.predict(img_array)\n",
    "predicted_class = np.argmax(predictions, axis=1)\n",
    "\n",
    "# Assuming you have a mapping of class indices to Pokémon names\n",
    "pokemon_names = list(train_generator.class_indices.keys())  # Get Pokémon names\n",
    "predicted_pokemon = pokemon_names[predicted_class[0]]\n",
    "print(f\"This image is most likely: {predicted_pokemon} with a probability of {np.max(predictions)}\")\n"
   ]
  },
  {
   "cell_type": "code",
   "execution_count": 14,
   "id": "1cd7c7a6",
   "metadata": {},
   "outputs": [
    {
     "name": "stdout",
     "output_type": "stream",
     "text": [
      "Index: 0, Pokémon: Abra\n",
      "Index: 1, Pokémon: Aerodactyl\n",
      "Index: 2, Pokémon: Alakazam\n",
      "Index: 3, Pokémon: Arbok\n",
      "Index: 4, Pokémon: Arcanine\n",
      "Index: 5, Pokémon: Articuno\n",
      "Index: 6, Pokémon: Beedrill\n",
      "Index: 7, Pokémon: Bellsprout\n",
      "Index: 8, Pokémon: Blastoise\n",
      "Index: 9, Pokémon: Bulbasaur\n",
      "Index: 10, Pokémon: Butterfree\n",
      "Index: 11, Pokémon: Caterpie\n",
      "Index: 12, Pokémon: Chansey\n",
      "Index: 13, Pokémon: Charizard\n",
      "Index: 14, Pokémon: Charmander\n",
      "Index: 15, Pokémon: Charmeleon\n",
      "Index: 16, Pokémon: Clefable\n",
      "Index: 17, Pokémon: Clefairy\n",
      "Index: 18, Pokémon: Cloyster\n",
      "Index: 19, Pokémon: Cubone\n",
      "Index: 20, Pokémon: Dewgong\n",
      "Index: 21, Pokémon: Diglett\n",
      "Index: 22, Pokémon: Ditto\n",
      "Index: 23, Pokémon: Dodrio\n",
      "Index: 24, Pokémon: Doduo\n",
      "Index: 25, Pokémon: Dragonair\n",
      "Index: 26, Pokémon: Dragonite\n",
      "Index: 27, Pokémon: Dratini\n",
      "Index: 28, Pokémon: Drowzee\n",
      "Index: 29, Pokémon: Dugtrio\n",
      "Index: 30, Pokémon: Eevee\n",
      "Index: 31, Pokémon: Ekans\n",
      "Index: 32, Pokémon: Electabuzz\n",
      "Index: 33, Pokémon: Electrode\n",
      "Index: 34, Pokémon: Exeggcute\n",
      "Index: 35, Pokémon: Exeggutor\n",
      "Index: 36, Pokémon: Farfetchd\n",
      "Index: 37, Pokémon: Fearow\n",
      "Index: 38, Pokémon: Flareon\n",
      "Index: 39, Pokémon: Gastly\n",
      "Index: 40, Pokémon: Gengar\n",
      "Index: 41, Pokémon: Geodude\n",
      "Index: 42, Pokémon: Gloom\n",
      "Index: 43, Pokémon: Golbat\n",
      "Index: 44, Pokémon: Goldeen\n",
      "Index: 45, Pokémon: Golduck\n",
      "Index: 46, Pokémon: Golem\n",
      "Index: 47, Pokémon: Graveler\n",
      "Index: 48, Pokémon: Grimer\n",
      "Index: 49, Pokémon: Growlithe\n",
      "Index: 50, Pokémon: Gyarados\n",
      "Index: 51, Pokémon: Haunter\n",
      "Index: 52, Pokémon: Hitmonchan\n",
      "Index: 53, Pokémon: Hitmonlee\n",
      "Index: 54, Pokémon: Horsea\n",
      "Index: 55, Pokémon: Hypno\n",
      "Index: 56, Pokémon: Ivysaur\n",
      "Index: 57, Pokémon: Jigglypuff\n",
      "Index: 58, Pokémon: Jolteon\n",
      "Index: 59, Pokémon: Jynx\n",
      "Index: 60, Pokémon: Kabuto\n",
      "Index: 61, Pokémon: Kabutops\n",
      "Index: 62, Pokémon: Kadabra\n",
      "Index: 63, Pokémon: Kakuna\n",
      "Index: 64, Pokémon: Kangaskhan\n",
      "Index: 65, Pokémon: Kingler\n",
      "Index: 66, Pokémon: Koffing\n",
      "Index: 67, Pokémon: Krabby\n",
      "Index: 68, Pokémon: Lapras\n",
      "Index: 69, Pokémon: Lickitung\n",
      "Index: 70, Pokémon: Machamp\n",
      "Index: 71, Pokémon: Machoke\n",
      "Index: 72, Pokémon: Machop\n",
      "Index: 73, Pokémon: Magikarp\n",
      "Index: 74, Pokémon: Magmar\n",
      "Index: 75, Pokémon: Magnemite\n",
      "Index: 76, Pokémon: Magneton\n",
      "Index: 77, Pokémon: Mankey\n",
      "Index: 78, Pokémon: Marowak\n",
      "Index: 79, Pokémon: Meowth\n",
      "Index: 80, Pokémon: Metapod\n",
      "Index: 81, Pokémon: Mew\n",
      "Index: 82, Pokémon: Mewtwo\n",
      "Index: 83, Pokémon: Moltres\n",
      "Index: 84, Pokémon: MrMime\n",
      "Index: 85, Pokémon: Muk\n",
      "Index: 86, Pokémon: Nidoking\n",
      "Index: 87, Pokémon: Nidoqueen\n",
      "Index: 88, Pokémon: Nidorina\n",
      "Index: 89, Pokémon: Nidorino\n",
      "Index: 90, Pokémon: Ninetales\n",
      "Index: 91, Pokémon: Oddish\n",
      "Index: 92, Pokémon: Omanyte\n",
      "Index: 93, Pokémon: Omastar\n",
      "Index: 94, Pokémon: Onix\n",
      "Index: 95, Pokémon: Paras\n",
      "Index: 96, Pokémon: Parasect\n",
      "Index: 97, Pokémon: Persian\n",
      "Index: 98, Pokémon: Pidgeot\n",
      "Index: 99, Pokémon: Pidgeotto\n",
      "Index: 100, Pokémon: Pidgey\n",
      "Index: 101, Pokémon: Pikachu\n",
      "Index: 102, Pokémon: Pinsir\n",
      "Index: 103, Pokémon: Poliwag\n",
      "Index: 104, Pokémon: Poliwhirl\n",
      "Index: 105, Pokémon: Poliwrath\n",
      "Index: 106, Pokémon: Ponyta\n",
      "Index: 107, Pokémon: Porygon\n",
      "Index: 108, Pokémon: Primeape\n",
      "Index: 109, Pokémon: Psyduck\n",
      "Index: 110, Pokémon: Raichu\n",
      "Index: 111, Pokémon: Rapidash\n",
      "Index: 112, Pokémon: Raticate\n",
      "Index: 113, Pokémon: Rattata\n",
      "Index: 114, Pokémon: Rhydon\n",
      "Index: 115, Pokémon: Rhyhorn\n",
      "Index: 116, Pokémon: Sandshrew\n",
      "Index: 117, Pokémon: Sandslash\n",
      "Index: 118, Pokémon: Scyther\n",
      "Index: 119, Pokémon: Seadra\n",
      "Index: 120, Pokémon: Seaking\n",
      "Index: 121, Pokémon: Seel\n",
      "Index: 122, Pokémon: Shellder\n",
      "Index: 123, Pokémon: Slowbro\n",
      "Index: 124, Pokémon: Slowpoke\n",
      "Index: 125, Pokémon: Snorlax\n",
      "Index: 126, Pokémon: Spearow\n",
      "Index: 127, Pokémon: Squirtle\n",
      "Index: 128, Pokémon: Starmie\n",
      "Index: 129, Pokémon: Staryu\n",
      "Index: 130, Pokémon: Tangela\n",
      "Index: 131, Pokémon: Tauros\n",
      "Index: 132, Pokémon: Tentacool\n",
      "Index: 133, Pokémon: Tentacruel\n",
      "Index: 134, Pokémon: Vaporeon\n",
      "Index: 135, Pokémon: Venomoth\n",
      "Index: 136, Pokémon: Venonat\n",
      "Index: 137, Pokémon: Venusaur\n",
      "Index: 138, Pokémon: Victreebel\n",
      "Index: 139, Pokémon: Vileplume\n",
      "Index: 140, Pokémon: Voltorb\n",
      "Index: 141, Pokémon: Vulpix\n",
      "Index: 142, Pokémon: Wartortle\n",
      "Index: 143, Pokémon: Weedle\n",
      "Index: 144, Pokémon: Weepinbell\n",
      "Index: 145, Pokémon: Weezing\n",
      "Index: 146, Pokémon: Wigglytuff\n",
      "Index: 147, Pokémon: Zapdos\n",
      "Index: 148, Pokémon: Zubat\n"
     ]
    }
   ],
   "source": [
    "# Assuming train_generator is already defined and used for training\n",
    "pokemon_indices = train_generator.class_indices\n",
    "pokemon_names = list(pokemon_indices.keys())  # Extracting Pokémon names from the indices\n",
    "\n",
    "# Printing the mapping of class index to Pokémon name\n",
    "for pokemon, index in pokemon_indices.items():\n",
    "    print(f\"Index: {index}, Pokémon: {pokemon}\")\n"
   ]
  },
  {
   "cell_type": "code",
   "execution_count": 15,
   "id": "3cb0b30a",
   "metadata": {},
   "outputs": [
    {
     "name": "stdout",
     "output_type": "stream",
     "text": [
      "JSON file containing class indices has been saved!\n"
     ]
    }
   ],
   "source": [
    "import json\n",
    "\n",
    "# Assuming 'train_generator' is your training image data generator\n",
    "class_indices = train_generator.class_indices\n",
    "\n",
    "# Convert the class indices to a dictionary with classes as keys and indices as values\n",
    "index_to_class_dict = {v: k for k, v in class_indices.items()}\n",
    "\n",
    "# Now, save this dictionary to a JSON file\n",
    "with open('class_indices.json', 'w') as json_file:\n",
    "    json.dump(index_to_class_dict, json_file)\n",
    "\n",
    "# The JSON file is now saved in the writable directory of this environment, you can download it\n",
    "print(\"JSON file containing class indices has been saved!\")\n"
   ]
  },
  {
   "cell_type": "code",
   "execution_count": null,
   "id": "77fc6b37",
   "metadata": {},
   "outputs": [],
   "source": []
  }
 ],
 "metadata": {
  "kernelspec": {
   "display_name": "Python 3 (ipykernel)",
   "language": "python",
   "name": "python3"
  },
  "language_info": {
   "codemirror_mode": {
    "name": "ipython",
    "version": 3
   },
   "file_extension": ".py",
   "mimetype": "text/x-python",
   "name": "python",
   "nbconvert_exporter": "python",
   "pygments_lexer": "ipython3",
   "version": "3.9.13"
  }
 },
 "nbformat": 4,
 "nbformat_minor": 5
}
